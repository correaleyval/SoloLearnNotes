{
 "metadata": {
  "language_info": {
   "codemirror_mode": {
    "name": "ipython",
    "version": 3
   },
   "file_extension": ".py",
   "mimetype": "text/x-python",
   "name": "python",
   "nbconvert_exporter": "python",
   "pygments_lexer": "ipython3",
   "version": "3.8.5"
  },
  "orig_nbformat": 2,
  "kernelspec": {
   "name": "python385jvsc74a57bd07a0831dc404eeb13453f8540f5b7674d5d6ce1ff6abfc97faa9ee3d578e610be",
   "display_name": "Python 3.8.5 64-bit ('base': conda)"
  }
 },
 "nbformat": 4,
 "nbformat_minor": 2,
 "cells": [
  {
   "cell_type": "code",
   "execution_count": 6,
   "metadata": {},
   "outputs": [],
   "source": [
    "import math\n",
    "\n",
    "players = [180, 172, 178, 185, 190, 195, 192, 200, 210, 190]\n",
    "\n",
    "mean = sum(players)/len(players)\n",
    "\n",
    "var = sum([(x - mean)**2 for x in players])/len(players)\n",
    "\n",
    "std = math.sqrt(var)"
   ]
  },
  {
   "cell_type": "code",
   "execution_count": 7,
   "metadata": {},
   "outputs": [
    {
     "output_type": "stream",
     "name": "stdout",
     "text": [
      "189.2\n111.55999999999999\n10.562196741208714\n"
     ]
    }
   ],
   "source": [
    "print(mean)\n",
    "print(var)\n",
    "print(std)"
   ]
  },
  {
   "cell_type": "code",
   "execution_count": 11,
   "metadata": {},
   "outputs": [
    {
     "output_type": "stream",
     "name": "stdout",
     "text": [
      "7\n"
     ]
    }
   ],
   "source": [
    "count = 0\n",
    "\n",
    "mean_range = range(int(mean-std), int(mean+std))\n",
    "\n",
    "for x in players:\n",
    "    if x in mean_range:\n",
    "        count += 1\n",
    "\n",
    "print(count)"
   ]
  },
  {
   "cell_type": "code",
   "execution_count": null,
   "metadata": {},
   "outputs": [],
   "source": []
  }
 ]
}