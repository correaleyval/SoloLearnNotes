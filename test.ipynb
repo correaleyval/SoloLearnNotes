{
 "metadata": {
  "language_info": {
   "codemirror_mode": {
    "name": "ipython",
    "version": 3
   },
   "file_extension": ".py",
   "mimetype": "text/x-python",
   "name": "python",
   "nbconvert_exporter": "python",
   "pygments_lexer": "ipython3",
   "version": "3.8.5-final"
  },
  "orig_nbformat": 2,
  "kernelspec": {
   "name": "python385jvsc74a57bd07a0831dc404eeb13453f8540f5b7674d5d6ce1ff6abfc97faa9ee3d578e610be",
   "display_name": "Python 3.8.5 64-bit ('base': conda)"
  }
 },
 "nbformat": 4,
 "nbformat_minor": 2,
 "cells": [
  {
   "cell_type": "code",
   "execution_count": 1,
   "metadata": {},
   "outputs": [],
   "source": [
    "import pandas as pd"
   ]
  },
  {
   "cell_type": "code",
   "execution_count": 2,
   "metadata": {},
   "outputs": [
    {
     "output_type": "execute_result",
     "data": {
      "text/plain": [
       "         red_wine  white_wine\n",
       "adam            3           5\n",
       "bob             6           0\n",
       "charles         5          10"
      ],
      "text/html": "<div>\n<style scoped>\n    .dataframe tbody tr th:only-of-type {\n        vertical-align: middle;\n    }\n\n    .dataframe tbody tr th {\n        vertical-align: top;\n    }\n\n    .dataframe thead th {\n        text-align: right;\n    }\n</style>\n<table border=\"1\" class=\"dataframe\">\n  <thead>\n    <tr style=\"text-align: right;\">\n      <th></th>\n      <th>red_wine</th>\n      <th>white_wine</th>\n    </tr>\n  </thead>\n  <tbody>\n    <tr>\n      <th>adam</th>\n      <td>3</td>\n      <td>5</td>\n    </tr>\n    <tr>\n      <th>bob</th>\n      <td>6</td>\n      <td>0</td>\n    </tr>\n    <tr>\n      <th>charles</th>\n      <td>5</td>\n      <td>10</td>\n    </tr>\n  </tbody>\n</table>\n</div>"
     },
     "metadata": {},
     "execution_count": 2
    }
   ],
   "source": [
    "wine_dict = {\n",
    "    'red_wine': [3, 6, 5],\n",
    "    'white_wine': [5, 0, 10],\n",
    "}\n",
    "\n",
    "sales = pd.DataFrame(wine_dict, index=['adam', 'bob', 'charles'])\n",
    "\n",
    "sales"
   ]
  },
  {
   "cell_type": "code",
   "execution_count": 4,
   "metadata": {},
   "outputs": [],
   "source": [
    "presidents_df = pd.read_csv('https://sololearn.com/uploads/files/president_heights_party.csv', index_col='name')"
   ]
  },
  {
   "cell_type": "code",
   "execution_count": 5,
   "metadata": {},
   "outputs": [
    {
     "output_type": "execute_result",
     "data": {
      "text/plain": [
       "(45, 4)"
      ]
     },
     "metadata": {},
     "execution_count": 5
    }
   ],
   "source": [
    "presidents_df.shape"
   ]
  },
  {
   "cell_type": "code",
   "execution_count": 6,
   "metadata": {},
   "outputs": [
    {
     "output_type": "execute_result",
     "data": {
      "text/plain": [
       "                        order  age  height                  party\n",
       "name                                                             \n",
       "George Washington           1   57     189                   none\n",
       "John Adams                  2   61     170             federalist\n",
       "Thomas Jefferson            3   57     189  democratic-republican\n",
       "James Madison               4   57     163  democratic-republican\n",
       "James Monroe                5   58     183  democratic-republican\n",
       "John Quincy Adams           6   57     171  democratic-republican\n",
       "Andrew Jackson              7   61     185             democratic\n",
       "Martin Van Buren            8   54     168             democratic\n",
       "William Henry Harrison      9   68     173                   whig\n",
       "John Tyler                 10   51     183                   whig\n",
       "James K. Polk              11   49     173             democratic\n",
       "Zachary Taylor             12   64     173                   whig\n",
       "Millard Fillmore           13   50     175                   whig\n",
       "Franklin Pierce            14   48     178             democratic\n",
       "James Buchanan             15   65     183             democratic\n",
       "Abraham Lincoln            16   52     193             republican\n",
       "Andrew Johnson             17   56     178         national union\n",
       "Ulysses S. Grant           18   46     173             republican\n",
       "Rutherford B. Hayes        19   54     174             republican\n",
       "James A. Garfield          20   49     183             republican\n",
       "Chester A. Arthur          21   51     183             republican\n",
       "Grover Cleveland           22   47     180             democratic\n",
       "Benjamin Harrison          23   55     168             republican\n",
       "Grover Cleveland           25   55     180             democratic\n",
       "William McKinley           25   54     170             republican\n",
       "Theodore Roosevelt         26   42     178             republican\n",
       "William Howard Taft        27   51     182             republican\n",
       "Woodrow Wilson             28   56     180             democratic\n",
       "Warren G. Harding          29   55     183             republican\n",
       "Calvin Coolidge            30   51     178             republican\n",
       "Herbert Hoover             31   54     182             republican\n",
       "Franklin D. Roosevelt      32   51     188             democratic\n",
       "Harry S. Truman            33   60     175             democratic\n",
       "Dwight D. Eisenhower       34   62     179             republican\n",
       "John F. Kennedy            35   43     183             democratic\n",
       "Lyndon B. Johnson          36   55     193             democratic\n",
       "Richard Nixon              37   56     182             republican\n",
       "Gerald Ford                38   61     183             republican\n",
       "Jimmy Carter               39   52     177             democratic\n",
       "Ronald Reagan              40   69     185             republican\n",
       "George H. W. Bush          41   64     188             republican\n",
       "Bill Clinton               42   46     188             democratic\n",
       "George W. Bush             43   54     182             republican\n",
       "Barack Obama               44   47     185             democratic\n",
       "Donald J. Trump            45   70     191             republican"
      ],
      "text/html": "<div>\n<style scoped>\n    .dataframe tbody tr th:only-of-type {\n        vertical-align: middle;\n    }\n\n    .dataframe tbody tr th {\n        vertical-align: top;\n    }\n\n    .dataframe thead th {\n        text-align: right;\n    }\n</style>\n<table border=\"1\" class=\"dataframe\">\n  <thead>\n    <tr style=\"text-align: right;\">\n      <th></th>\n      <th>order</th>\n      <th>age</th>\n      <th>height</th>\n      <th>party</th>\n    </tr>\n    <tr>\n      <th>name</th>\n      <th></th>\n      <th></th>\n      <th></th>\n      <th></th>\n    </tr>\n  </thead>\n  <tbody>\n    <tr>\n      <th>George Washington</th>\n      <td>1</td>\n      <td>57</td>\n      <td>189</td>\n      <td>none</td>\n    </tr>\n    <tr>\n      <th>John Adams</th>\n      <td>2</td>\n      <td>61</td>\n      <td>170</td>\n      <td>federalist</td>\n    </tr>\n    <tr>\n      <th>Thomas Jefferson</th>\n      <td>3</td>\n      <td>57</td>\n      <td>189</td>\n      <td>democratic-republican</td>\n    </tr>\n    <tr>\n      <th>James Madison</th>\n      <td>4</td>\n      <td>57</td>\n      <td>163</td>\n      <td>democratic-republican</td>\n    </tr>\n    <tr>\n      <th>James Monroe</th>\n      <td>5</td>\n      <td>58</td>\n      <td>183</td>\n      <td>democratic-republican</td>\n    </tr>\n    <tr>\n      <th>John Quincy Adams</th>\n      <td>6</td>\n      <td>57</td>\n      <td>171</td>\n      <td>democratic-republican</td>\n    </tr>\n    <tr>\n      <th>Andrew Jackson</th>\n      <td>7</td>\n      <td>61</td>\n      <td>185</td>\n      <td>democratic</td>\n    </tr>\n    <tr>\n      <th>Martin Van Buren</th>\n      <td>8</td>\n      <td>54</td>\n      <td>168</td>\n      <td>democratic</td>\n    </tr>\n    <tr>\n      <th>William Henry Harrison</th>\n      <td>9</td>\n      <td>68</td>\n      <td>173</td>\n      <td>whig</td>\n    </tr>\n    <tr>\n      <th>John Tyler</th>\n      <td>10</td>\n      <td>51</td>\n      <td>183</td>\n      <td>whig</td>\n    </tr>\n    <tr>\n      <th>James K. Polk</th>\n      <td>11</td>\n      <td>49</td>\n      <td>173</td>\n      <td>democratic</td>\n    </tr>\n    <tr>\n      <th>Zachary Taylor</th>\n      <td>12</td>\n      <td>64</td>\n      <td>173</td>\n      <td>whig</td>\n    </tr>\n    <tr>\n      <th>Millard Fillmore</th>\n      <td>13</td>\n      <td>50</td>\n      <td>175</td>\n      <td>whig</td>\n    </tr>\n    <tr>\n      <th>Franklin Pierce</th>\n      <td>14</td>\n      <td>48</td>\n      <td>178</td>\n      <td>democratic</td>\n    </tr>\n    <tr>\n      <th>James Buchanan</th>\n      <td>15</td>\n      <td>65</td>\n      <td>183</td>\n      <td>democratic</td>\n    </tr>\n    <tr>\n      <th>Abraham Lincoln</th>\n      <td>16</td>\n      <td>52</td>\n      <td>193</td>\n      <td>republican</td>\n    </tr>\n    <tr>\n      <th>Andrew Johnson</th>\n      <td>17</td>\n      <td>56</td>\n      <td>178</td>\n      <td>national union</td>\n    </tr>\n    <tr>\n      <th>Ulysses S. Grant</th>\n      <td>18</td>\n      <td>46</td>\n      <td>173</td>\n      <td>republican</td>\n    </tr>\n    <tr>\n      <th>Rutherford B. Hayes</th>\n      <td>19</td>\n      <td>54</td>\n      <td>174</td>\n      <td>republican</td>\n    </tr>\n    <tr>\n      <th>James A. Garfield</th>\n      <td>20</td>\n      <td>49</td>\n      <td>183</td>\n      <td>republican</td>\n    </tr>\n    <tr>\n      <th>Chester A. Arthur</th>\n      <td>21</td>\n      <td>51</td>\n      <td>183</td>\n      <td>republican</td>\n    </tr>\n    <tr>\n      <th>Grover Cleveland</th>\n      <td>22</td>\n      <td>47</td>\n      <td>180</td>\n      <td>democratic</td>\n    </tr>\n    <tr>\n      <th>Benjamin Harrison</th>\n      <td>23</td>\n      <td>55</td>\n      <td>168</td>\n      <td>republican</td>\n    </tr>\n    <tr>\n      <th>Grover Cleveland</th>\n      <td>25</td>\n      <td>55</td>\n      <td>180</td>\n      <td>democratic</td>\n    </tr>\n    <tr>\n      <th>William McKinley</th>\n      <td>25</td>\n      <td>54</td>\n      <td>170</td>\n      <td>republican</td>\n    </tr>\n    <tr>\n      <th>Theodore Roosevelt</th>\n      <td>26</td>\n      <td>42</td>\n      <td>178</td>\n      <td>republican</td>\n    </tr>\n    <tr>\n      <th>William Howard Taft</th>\n      <td>27</td>\n      <td>51</td>\n      <td>182</td>\n      <td>republican</td>\n    </tr>\n    <tr>\n      <th>Woodrow Wilson</th>\n      <td>28</td>\n      <td>56</td>\n      <td>180</td>\n      <td>democratic</td>\n    </tr>\n    <tr>\n      <th>Warren G. Harding</th>\n      <td>29</td>\n      <td>55</td>\n      <td>183</td>\n      <td>republican</td>\n    </tr>\n    <tr>\n      <th>Calvin Coolidge</th>\n      <td>30</td>\n      <td>51</td>\n      <td>178</td>\n      <td>republican</td>\n    </tr>\n    <tr>\n      <th>Herbert Hoover</th>\n      <td>31</td>\n      <td>54</td>\n      <td>182</td>\n      <td>republican</td>\n    </tr>\n    <tr>\n      <th>Franklin D. Roosevelt</th>\n      <td>32</td>\n      <td>51</td>\n      <td>188</td>\n      <td>democratic</td>\n    </tr>\n    <tr>\n      <th>Harry S. Truman</th>\n      <td>33</td>\n      <td>60</td>\n      <td>175</td>\n      <td>democratic</td>\n    </tr>\n    <tr>\n      <th>Dwight D. Eisenhower</th>\n      <td>34</td>\n      <td>62</td>\n      <td>179</td>\n      <td>republican</td>\n    </tr>\n    <tr>\n      <th>John F. Kennedy</th>\n      <td>35</td>\n      <td>43</td>\n      <td>183</td>\n      <td>democratic</td>\n    </tr>\n    <tr>\n      <th>Lyndon B. Johnson</th>\n      <td>36</td>\n      <td>55</td>\n      <td>193</td>\n      <td>democratic</td>\n    </tr>\n    <tr>\n      <th>Richard Nixon</th>\n      <td>37</td>\n      <td>56</td>\n      <td>182</td>\n      <td>republican</td>\n    </tr>\n    <tr>\n      <th>Gerald Ford</th>\n      <td>38</td>\n      <td>61</td>\n      <td>183</td>\n      <td>republican</td>\n    </tr>\n    <tr>\n      <th>Jimmy Carter</th>\n      <td>39</td>\n      <td>52</td>\n      <td>177</td>\n      <td>democratic</td>\n    </tr>\n    <tr>\n      <th>Ronald Reagan</th>\n      <td>40</td>\n      <td>69</td>\n      <td>185</td>\n      <td>republican</td>\n    </tr>\n    <tr>\n      <th>George H. W. Bush</th>\n      <td>41</td>\n      <td>64</td>\n      <td>188</td>\n      <td>republican</td>\n    </tr>\n    <tr>\n      <th>Bill Clinton</th>\n      <td>42</td>\n      <td>46</td>\n      <td>188</td>\n      <td>democratic</td>\n    </tr>\n    <tr>\n      <th>George W. Bush</th>\n      <td>43</td>\n      <td>54</td>\n      <td>182</td>\n      <td>republican</td>\n    </tr>\n    <tr>\n      <th>Barack Obama</th>\n      <td>44</td>\n      <td>47</td>\n      <td>185</td>\n      <td>democratic</td>\n    </tr>\n    <tr>\n      <th>Donald J. Trump</th>\n      <td>45</td>\n      <td>70</td>\n      <td>191</td>\n      <td>republican</td>\n    </tr>\n  </tbody>\n</table>\n</div>"
     },
     "metadata": {},
     "execution_count": 6
    }
   ],
   "source": [
    "presidents_df"
   ]
  },
  {
   "cell_type": "code",
   "execution_count": 7,
   "metadata": {},
   "outputs": [
    {
     "output_type": "stream",
     "name": "stdout",
     "text": [
      "<class 'pandas.core.frame.DataFrame'>\nIndex: 45 entries, George Washington to Donald J. Trump\nData columns (total 4 columns):\n #   Column  Non-Null Count  Dtype \n---  ------  --------------  ----- \n 0   order   45 non-null     int64 \n 1   age     45 non-null     int64 \n 2   height  45 non-null     int64 \n 3   party   45 non-null     object\ndtypes: int64(3), object(1)\nmemory usage: 3.0+ KB\n"
     ]
    }
   ],
   "source": [
    "presidents_df.info()"
   ]
  },
  {
   "cell_type": "code",
   "execution_count": 8,
   "metadata": {},
   "outputs": [
    {
     "output_type": "execute_result",
     "data": {
      "text/plain": [
       "2.0"
      ]
     },
     "metadata": {},
     "execution_count": 8
    }
   ],
   "source": [
    "series = pd.Series([1, 2, 1, 4, 2])\n",
    "\n",
    "\n",
    "series.mean()"
   ]
  },
  {
   "cell_type": "code",
   "execution_count": 9,
   "metadata": {},
   "outputs": [
    {
     "output_type": "execute_result",
     "data": {
      "text/plain": [
       "2.0"
      ]
     },
     "metadata": {},
     "execution_count": 9
    }
   ],
   "source": [
    "series = pd.Series([1, 2, 4, 2, 4, 1])\n",
    "\n",
    "series.median()"
   ]
  },
  {
   "cell_type": "code",
   "execution_count": 10,
   "metadata": {},
   "outputs": [],
   "source": [
    "party = presidents_df.groupby('party')"
   ]
  },
  {
   "cell_type": "code",
   "execution_count": 12,
   "metadata": {},
   "outputs": [
    {
     "output_type": "execute_result",
     "data": {
      "text/plain": [
       "                           order        age      height\n",
       "party                                                  \n",
       "democratic             26.066667  52.600000  181.066667\n",
       "democratic-republican   4.500000  57.250000  176.500000\n",
       "federalist              2.000000  61.000000  170.000000\n",
       "national union         17.000000  56.000000  178.000000\n",
       "none                    1.000000  57.000000  189.000000\n",
       "republican             29.631579  55.263158  180.894737\n",
       "whig                   11.000000  58.250000  176.000000"
      ],
      "text/html": "<div>\n<style scoped>\n    .dataframe tbody tr th:only-of-type {\n        vertical-align: middle;\n    }\n\n    .dataframe tbody tr th {\n        vertical-align: top;\n    }\n\n    .dataframe thead th {\n        text-align: right;\n    }\n</style>\n<table border=\"1\" class=\"dataframe\">\n  <thead>\n    <tr style=\"text-align: right;\">\n      <th></th>\n      <th>order</th>\n      <th>age</th>\n      <th>height</th>\n    </tr>\n    <tr>\n      <th>party</th>\n      <th></th>\n      <th></th>\n      <th></th>\n    </tr>\n  </thead>\n  <tbody>\n    <tr>\n      <th>democratic</th>\n      <td>26.066667</td>\n      <td>52.600000</td>\n      <td>181.066667</td>\n    </tr>\n    <tr>\n      <th>democratic-republican</th>\n      <td>4.500000</td>\n      <td>57.250000</td>\n      <td>176.500000</td>\n    </tr>\n    <tr>\n      <th>federalist</th>\n      <td>2.000000</td>\n      <td>61.000000</td>\n      <td>170.000000</td>\n    </tr>\n    <tr>\n      <th>national union</th>\n      <td>17.000000</td>\n      <td>56.000000</td>\n      <td>178.000000</td>\n    </tr>\n    <tr>\n      <th>none</th>\n      <td>1.000000</td>\n      <td>57.000000</td>\n      <td>189.000000</td>\n    </tr>\n    <tr>\n      <th>republican</th>\n      <td>29.631579</td>\n      <td>55.263158</td>\n      <td>180.894737</td>\n    </tr>\n    <tr>\n      <th>whig</th>\n      <td>11.000000</td>\n      <td>58.250000</td>\n      <td>176.000000</td>\n    </tr>\n  </tbody>\n</table>\n</div>"
     },
     "metadata": {},
     "execution_count": 12
    }
   ],
   "source": [
    "party.mean()"
   ]
  },
  {
   "cell_type": "code",
   "execution_count": 13,
   "metadata": {},
   "outputs": [],
   "source": [
    "import matplotlib.pyplot as plt"
   ]
  },
  {
   "cell_type": "code",
   "execution_count": 16,
   "metadata": {},
   "outputs": [],
   "source": [
    "plt.style.use('ggplot')"
   ]
  },
  {
   "cell_type": "code",
   "execution_count": 17,
   "metadata": {},
   "outputs": [
    {
     "output_type": "display_data",
     "data": {
      "text/plain": "<Figure size 432x288 with 0 Axes>"
     },
     "metadata": {}
    }
   ],
   "source": [
    "fig = plt.figure()"
   ]
  },
  {
   "cell_type": "code",
   "execution_count": 18,
   "metadata": {},
   "outputs": [
    {
     "output_type": "display_data",
     "data": {
      "text/plain": "<Figure size 432x288 with 1 Axes>",
      "image/svg+xml": "<?xml version=\"1.0\" encoding=\"utf-8\" standalone=\"no\"?>\n<!DOCTYPE svg PUBLIC \"-//W3C//DTD SVG 1.1//EN\"\n  \"http://www.w3.org/Graphics/SVG/1.1/DTD/svg11.dtd\">\n<!-- Created with matplotlib (https://matplotlib.org/) -->\n<svg height=\"252.317344pt\" version=\"1.1\" viewBox=\"0 0 380.054687 252.317344\" width=\"380.054687pt\" xmlns=\"http://www.w3.org/2000/svg\" xmlns:xlink=\"http://www.w3.org/1999/xlink\">\n <metadata>\n  <rdf:RDF xmlns:cc=\"http://creativecommons.org/ns#\" xmlns:dc=\"http://purl.org/dc/elements/1.1/\" xmlns:rdf=\"http://www.w3.org/1999/02/22-rdf-syntax-ns#\">\n   <cc:Work>\n    <dc:type rdf:resource=\"http://purl.org/dc/dcmitype/StillImage\"/>\n    <dc:date>2021-04-18T00:15:12.330350</dc:date>\n    <dc:format>image/svg+xml</dc:format>\n    <dc:creator>\n     <cc:Agent>\n      <dc:title>Matplotlib v3.3.2, https://matplotlib.org/</dc:title>\n     </cc:Agent>\n    </dc:creator>\n   </cc:Work>\n  </rdf:RDF>\n </metadata>\n <defs>\n  <style type=\"text/css\">*{stroke-linecap:butt;stroke-linejoin:round;}</style>\n </defs>\n <g id=\"figure_1\">\n  <g id=\"patch_1\">\n   <path d=\"M 0 252.317344 \nL 380.054687 252.317344 \nL 380.054687 0 \nL 0 0 \nz\n\" style=\"fill:#ffffff;\"/>\n  </g>\n  <g id=\"axes_1\">\n   <g id=\"patch_2\">\n    <path d=\"M 30.103125 228.439219 \nL 364.903125 228.439219 \nL 364.903125 10.999219 \nL 30.103125 10.999219 \nz\n\" style=\"fill:#e5e5e5;\"/>\n   </g>\n   <g id=\"matplotlib.axis_1\">\n    <g id=\"xtick_1\">\n     <g id=\"line2d_1\">\n      <path clip-path=\"url(#p6649c759d3)\" d=\"M 30.103125 228.439219 \nL 30.103125 10.999219 \n\" style=\"fill:none;stroke:#ffffff;stroke-linecap:square;stroke-width:0.8;\"/>\n     </g>\n     <g id=\"line2d_2\">\n      <defs>\n       <path d=\"M 0 0 \nL 0 3.5 \n\" id=\"mf3cdae9a30\" style=\"stroke:#555555;stroke-width:0.8;\"/>\n      </defs>\n      <g>\n       <use style=\"fill:#555555;stroke:#555555;stroke-width:0.8;\" x=\"30.103125\" xlink:href=\"#mf3cdae9a30\" y=\"228.439219\"/>\n      </g>\n     </g>\n     <g id=\"text_1\">\n      <!-- 0.0 -->\n      <g style=\"fill:#555555;\" transform=\"translate(22.151563 243.037656)scale(0.1 -0.1)\">\n       <defs>\n        <path d=\"M 31.78125 66.40625 \nQ 24.171875 66.40625 20.328125 58.90625 \nQ 16.5 51.421875 16.5 36.375 \nQ 16.5 21.390625 20.328125 13.890625 \nQ 24.171875 6.390625 31.78125 6.390625 \nQ 39.453125 6.390625 43.28125 13.890625 \nQ 47.125 21.390625 47.125 36.375 \nQ 47.125 51.421875 43.28125 58.90625 \nQ 39.453125 66.40625 31.78125 66.40625 \nz\nM 31.78125 74.21875 \nQ 44.046875 74.21875 50.515625 64.515625 \nQ 56.984375 54.828125 56.984375 36.375 \nQ 56.984375 17.96875 50.515625 8.265625 \nQ 44.046875 -1.421875 31.78125 -1.421875 \nQ 19.53125 -1.421875 13.0625 8.265625 \nQ 6.59375 17.96875 6.59375 36.375 \nQ 6.59375 54.828125 13.0625 64.515625 \nQ 19.53125 74.21875 31.78125 74.21875 \nz\n\" id=\"DejaVuSans-48\"/>\n        <path d=\"M 10.6875 12.40625 \nL 21 12.40625 \nL 21 0 \nL 10.6875 0 \nz\n\" id=\"DejaVuSans-46\"/>\n       </defs>\n       <use xlink:href=\"#DejaVuSans-48\"/>\n       <use x=\"63.623047\" xlink:href=\"#DejaVuSans-46\"/>\n       <use x=\"95.410156\" xlink:href=\"#DejaVuSans-48\"/>\n      </g>\n     </g>\n    </g>\n    <g id=\"xtick_2\">\n     <g id=\"line2d_3\">\n      <path clip-path=\"url(#p6649c759d3)\" d=\"M 97.063125 228.439219 \nL 97.063125 10.999219 \n\" style=\"fill:none;stroke:#ffffff;stroke-linecap:square;stroke-width:0.8;\"/>\n     </g>\n     <g id=\"line2d_4\">\n      <g>\n       <use style=\"fill:#555555;stroke:#555555;stroke-width:0.8;\" x=\"97.063125\" xlink:href=\"#mf3cdae9a30\" y=\"228.439219\"/>\n      </g>\n     </g>\n     <g id=\"text_2\">\n      <!-- 0.2 -->\n      <g style=\"fill:#555555;\" transform=\"translate(89.111563 243.037656)scale(0.1 -0.1)\">\n       <defs>\n        <path d=\"M 19.1875 8.296875 \nL 53.609375 8.296875 \nL 53.609375 0 \nL 7.328125 0 \nL 7.328125 8.296875 \nQ 12.9375 14.109375 22.625 23.890625 \nQ 32.328125 33.6875 34.8125 36.53125 \nQ 39.546875 41.84375 41.421875 45.53125 \nQ 43.3125 49.21875 43.3125 52.78125 \nQ 43.3125 58.59375 39.234375 62.25 \nQ 35.15625 65.921875 28.609375 65.921875 \nQ 23.96875 65.921875 18.8125 64.3125 \nQ 13.671875 62.703125 7.8125 59.421875 \nL 7.8125 69.390625 \nQ 13.765625 71.78125 18.9375 73 \nQ 24.125 74.21875 28.421875 74.21875 \nQ 39.75 74.21875 46.484375 68.546875 \nQ 53.21875 62.890625 53.21875 53.421875 \nQ 53.21875 48.921875 51.53125 44.890625 \nQ 49.859375 40.875 45.40625 35.40625 \nQ 44.1875 33.984375 37.640625 27.21875 \nQ 31.109375 20.453125 19.1875 8.296875 \nz\n\" id=\"DejaVuSans-50\"/>\n       </defs>\n       <use xlink:href=\"#DejaVuSans-48\"/>\n       <use x=\"63.623047\" xlink:href=\"#DejaVuSans-46\"/>\n       <use x=\"95.410156\" xlink:href=\"#DejaVuSans-50\"/>\n      </g>\n     </g>\n    </g>\n    <g id=\"xtick_3\">\n     <g id=\"line2d_5\">\n      <path clip-path=\"url(#p6649c759d3)\" d=\"M 164.023125 228.439219 \nL 164.023125 10.999219 \n\" style=\"fill:none;stroke:#ffffff;stroke-linecap:square;stroke-width:0.8;\"/>\n     </g>\n     <g id=\"line2d_6\">\n      <g>\n       <use style=\"fill:#555555;stroke:#555555;stroke-width:0.8;\" x=\"164.023125\" xlink:href=\"#mf3cdae9a30\" y=\"228.439219\"/>\n      </g>\n     </g>\n     <g id=\"text_3\">\n      <!-- 0.4 -->\n      <g style=\"fill:#555555;\" transform=\"translate(156.071563 243.037656)scale(0.1 -0.1)\">\n       <defs>\n        <path d=\"M 37.796875 64.3125 \nL 12.890625 25.390625 \nL 37.796875 25.390625 \nz\nM 35.203125 72.90625 \nL 47.609375 72.90625 \nL 47.609375 25.390625 \nL 58.015625 25.390625 \nL 58.015625 17.1875 \nL 47.609375 17.1875 \nL 47.609375 0 \nL 37.796875 0 \nL 37.796875 17.1875 \nL 4.890625 17.1875 \nL 4.890625 26.703125 \nz\n\" id=\"DejaVuSans-52\"/>\n       </defs>\n       <use xlink:href=\"#DejaVuSans-48\"/>\n       <use x=\"63.623047\" xlink:href=\"#DejaVuSans-46\"/>\n       <use x=\"95.410156\" xlink:href=\"#DejaVuSans-52\"/>\n      </g>\n     </g>\n    </g>\n    <g id=\"xtick_4\">\n     <g id=\"line2d_7\">\n      <path clip-path=\"url(#p6649c759d3)\" d=\"M 230.983125 228.439219 \nL 230.983125 10.999219 \n\" style=\"fill:none;stroke:#ffffff;stroke-linecap:square;stroke-width:0.8;\"/>\n     </g>\n     <g id=\"line2d_8\">\n      <g>\n       <use style=\"fill:#555555;stroke:#555555;stroke-width:0.8;\" x=\"230.983125\" xlink:href=\"#mf3cdae9a30\" y=\"228.439219\"/>\n      </g>\n     </g>\n     <g id=\"text_4\">\n      <!-- 0.6 -->\n      <g style=\"fill:#555555;\" transform=\"translate(223.031563 243.037656)scale(0.1 -0.1)\">\n       <defs>\n        <path d=\"M 33.015625 40.375 \nQ 26.375 40.375 22.484375 35.828125 \nQ 18.609375 31.296875 18.609375 23.390625 \nQ 18.609375 15.53125 22.484375 10.953125 \nQ 26.375 6.390625 33.015625 6.390625 \nQ 39.65625 6.390625 43.53125 10.953125 \nQ 47.40625 15.53125 47.40625 23.390625 \nQ 47.40625 31.296875 43.53125 35.828125 \nQ 39.65625 40.375 33.015625 40.375 \nz\nM 52.59375 71.296875 \nL 52.59375 62.3125 \nQ 48.875 64.0625 45.09375 64.984375 \nQ 41.3125 65.921875 37.59375 65.921875 \nQ 27.828125 65.921875 22.671875 59.328125 \nQ 17.53125 52.734375 16.796875 39.40625 \nQ 19.671875 43.65625 24.015625 45.921875 \nQ 28.375 48.1875 33.59375 48.1875 \nQ 44.578125 48.1875 50.953125 41.515625 \nQ 57.328125 34.859375 57.328125 23.390625 \nQ 57.328125 12.15625 50.6875 5.359375 \nQ 44.046875 -1.421875 33.015625 -1.421875 \nQ 20.359375 -1.421875 13.671875 8.265625 \nQ 6.984375 17.96875 6.984375 36.375 \nQ 6.984375 53.65625 15.1875 63.9375 \nQ 23.390625 74.21875 37.203125 74.21875 \nQ 40.921875 74.21875 44.703125 73.484375 \nQ 48.484375 72.75 52.59375 71.296875 \nz\n\" id=\"DejaVuSans-54\"/>\n       </defs>\n       <use xlink:href=\"#DejaVuSans-48\"/>\n       <use x=\"63.623047\" xlink:href=\"#DejaVuSans-46\"/>\n       <use x=\"95.410156\" xlink:href=\"#DejaVuSans-54\"/>\n      </g>\n     </g>\n    </g>\n    <g id=\"xtick_5\">\n     <g id=\"line2d_9\">\n      <path clip-path=\"url(#p6649c759d3)\" d=\"M 297.943125 228.439219 \nL 297.943125 10.999219 \n\" style=\"fill:none;stroke:#ffffff;stroke-linecap:square;stroke-width:0.8;\"/>\n     </g>\n     <g id=\"line2d_10\">\n      <g>\n       <use style=\"fill:#555555;stroke:#555555;stroke-width:0.8;\" x=\"297.943125\" xlink:href=\"#mf3cdae9a30\" y=\"228.439219\"/>\n      </g>\n     </g>\n     <g id=\"text_5\">\n      <!-- 0.8 -->\n      <g style=\"fill:#555555;\" transform=\"translate(289.991563 243.037656)scale(0.1 -0.1)\">\n       <defs>\n        <path d=\"M 31.78125 34.625 \nQ 24.75 34.625 20.71875 30.859375 \nQ 16.703125 27.09375 16.703125 20.515625 \nQ 16.703125 13.921875 20.71875 10.15625 \nQ 24.75 6.390625 31.78125 6.390625 \nQ 38.8125 6.390625 42.859375 10.171875 \nQ 46.921875 13.96875 46.921875 20.515625 \nQ 46.921875 27.09375 42.890625 30.859375 \nQ 38.875 34.625 31.78125 34.625 \nz\nM 21.921875 38.8125 \nQ 15.578125 40.375 12.03125 44.71875 \nQ 8.5 49.078125 8.5 55.328125 \nQ 8.5 64.0625 14.71875 69.140625 \nQ 20.953125 74.21875 31.78125 74.21875 \nQ 42.671875 74.21875 48.875 69.140625 \nQ 55.078125 64.0625 55.078125 55.328125 \nQ 55.078125 49.078125 51.53125 44.71875 \nQ 48 40.375 41.703125 38.8125 \nQ 48.828125 37.15625 52.796875 32.3125 \nQ 56.78125 27.484375 56.78125 20.515625 \nQ 56.78125 9.90625 50.3125 4.234375 \nQ 43.84375 -1.421875 31.78125 -1.421875 \nQ 19.734375 -1.421875 13.25 4.234375 \nQ 6.78125 9.90625 6.78125 20.515625 \nQ 6.78125 27.484375 10.78125 32.3125 \nQ 14.796875 37.15625 21.921875 38.8125 \nz\nM 18.3125 54.390625 \nQ 18.3125 48.734375 21.84375 45.5625 \nQ 25.390625 42.390625 31.78125 42.390625 \nQ 38.140625 42.390625 41.71875 45.5625 \nQ 45.3125 48.734375 45.3125 54.390625 \nQ 45.3125 60.0625 41.71875 63.234375 \nQ 38.140625 66.40625 31.78125 66.40625 \nQ 25.390625 66.40625 21.84375 63.234375 \nQ 18.3125 60.0625 18.3125 54.390625 \nz\n\" id=\"DejaVuSans-56\"/>\n       </defs>\n       <use xlink:href=\"#DejaVuSans-48\"/>\n       <use x=\"63.623047\" xlink:href=\"#DejaVuSans-46\"/>\n       <use x=\"95.410156\" xlink:href=\"#DejaVuSans-56\"/>\n      </g>\n     </g>\n    </g>\n    <g id=\"xtick_6\">\n     <g id=\"line2d_11\">\n      <path clip-path=\"url(#p6649c759d3)\" d=\"M 364.903125 228.439219 \nL 364.903125 10.999219 \n\" style=\"fill:none;stroke:#ffffff;stroke-linecap:square;stroke-width:0.8;\"/>\n     </g>\n     <g id=\"line2d_12\">\n      <g>\n       <use style=\"fill:#555555;stroke:#555555;stroke-width:0.8;\" x=\"364.903125\" xlink:href=\"#mf3cdae9a30\" y=\"228.439219\"/>\n      </g>\n     </g>\n     <g id=\"text_6\">\n      <!-- 1.0 -->\n      <g style=\"fill:#555555;\" transform=\"translate(356.951563 243.037656)scale(0.1 -0.1)\">\n       <defs>\n        <path d=\"M 12.40625 8.296875 \nL 28.515625 8.296875 \nL 28.515625 63.921875 \nL 10.984375 60.40625 \nL 10.984375 69.390625 \nL 28.421875 72.90625 \nL 38.28125 72.90625 \nL 38.28125 8.296875 \nL 54.390625 8.296875 \nL 54.390625 0 \nL 12.40625 0 \nz\n\" id=\"DejaVuSans-49\"/>\n       </defs>\n       <use xlink:href=\"#DejaVuSans-49\"/>\n       <use x=\"63.623047\" xlink:href=\"#DejaVuSans-46\"/>\n       <use x=\"95.410156\" xlink:href=\"#DejaVuSans-48\"/>\n      </g>\n     </g>\n    </g>\n   </g>\n   <g id=\"matplotlib.axis_2\">\n    <g id=\"ytick_1\">\n     <g id=\"line2d_13\">\n      <path clip-path=\"url(#p6649c759d3)\" d=\"M 30.103125 228.439219 \nL 364.903125 228.439219 \n\" style=\"fill:none;stroke:#ffffff;stroke-linecap:square;stroke-width:0.8;\"/>\n     </g>\n     <g id=\"line2d_14\">\n      <defs>\n       <path d=\"M 0 0 \nL -3.5 0 \n\" id=\"m5da6fad3a2\" style=\"stroke:#555555;stroke-width:0.8;\"/>\n      </defs>\n      <g>\n       <use style=\"fill:#555555;stroke:#555555;stroke-width:0.8;\" x=\"30.103125\" xlink:href=\"#m5da6fad3a2\" y=\"228.439219\"/>\n      </g>\n     </g>\n     <g id=\"text_7\">\n      <!-- 0.0 -->\n      <g style=\"fill:#555555;\" transform=\"translate(7.2 232.238437)scale(0.1 -0.1)\">\n       <use xlink:href=\"#DejaVuSans-48\"/>\n       <use x=\"63.623047\" xlink:href=\"#DejaVuSans-46\"/>\n       <use x=\"95.410156\" xlink:href=\"#DejaVuSans-48\"/>\n      </g>\n     </g>\n    </g>\n    <g id=\"ytick_2\">\n     <g id=\"line2d_15\">\n      <path clip-path=\"url(#p6649c759d3)\" d=\"M 30.103125 184.951219 \nL 364.903125 184.951219 \n\" style=\"fill:none;stroke:#ffffff;stroke-linecap:square;stroke-width:0.8;\"/>\n     </g>\n     <g id=\"line2d_16\">\n      <g>\n       <use style=\"fill:#555555;stroke:#555555;stroke-width:0.8;\" x=\"30.103125\" xlink:href=\"#m5da6fad3a2\" y=\"184.951219\"/>\n      </g>\n     </g>\n     <g id=\"text_8\">\n      <!-- 0.2 -->\n      <g style=\"fill:#555555;\" transform=\"translate(7.2 188.750437)scale(0.1 -0.1)\">\n       <use xlink:href=\"#DejaVuSans-48\"/>\n       <use x=\"63.623047\" xlink:href=\"#DejaVuSans-46\"/>\n       <use x=\"95.410156\" xlink:href=\"#DejaVuSans-50\"/>\n      </g>\n     </g>\n    </g>\n    <g id=\"ytick_3\">\n     <g id=\"line2d_17\">\n      <path clip-path=\"url(#p6649c759d3)\" d=\"M 30.103125 141.463219 \nL 364.903125 141.463219 \n\" style=\"fill:none;stroke:#ffffff;stroke-linecap:square;stroke-width:0.8;\"/>\n     </g>\n     <g id=\"line2d_18\">\n      <g>\n       <use style=\"fill:#555555;stroke:#555555;stroke-width:0.8;\" x=\"30.103125\" xlink:href=\"#m5da6fad3a2\" y=\"141.463219\"/>\n      </g>\n     </g>\n     <g id=\"text_9\">\n      <!-- 0.4 -->\n      <g style=\"fill:#555555;\" transform=\"translate(7.2 145.262437)scale(0.1 -0.1)\">\n       <use xlink:href=\"#DejaVuSans-48\"/>\n       <use x=\"63.623047\" xlink:href=\"#DejaVuSans-46\"/>\n       <use x=\"95.410156\" xlink:href=\"#DejaVuSans-52\"/>\n      </g>\n     </g>\n    </g>\n    <g id=\"ytick_4\">\n     <g id=\"line2d_19\">\n      <path clip-path=\"url(#p6649c759d3)\" d=\"M 30.103125 97.975219 \nL 364.903125 97.975219 \n\" style=\"fill:none;stroke:#ffffff;stroke-linecap:square;stroke-width:0.8;\"/>\n     </g>\n     <g id=\"line2d_20\">\n      <g>\n       <use style=\"fill:#555555;stroke:#555555;stroke-width:0.8;\" x=\"30.103125\" xlink:href=\"#m5da6fad3a2\" y=\"97.975219\"/>\n      </g>\n     </g>\n     <g id=\"text_10\">\n      <!-- 0.6 -->\n      <g style=\"fill:#555555;\" transform=\"translate(7.2 101.774437)scale(0.1 -0.1)\">\n       <use xlink:href=\"#DejaVuSans-48\"/>\n       <use x=\"63.623047\" xlink:href=\"#DejaVuSans-46\"/>\n       <use x=\"95.410156\" xlink:href=\"#DejaVuSans-54\"/>\n      </g>\n     </g>\n    </g>\n    <g id=\"ytick_5\">\n     <g id=\"line2d_21\">\n      <path clip-path=\"url(#p6649c759d3)\" d=\"M 30.103125 54.487219 \nL 364.903125 54.487219 \n\" style=\"fill:none;stroke:#ffffff;stroke-linecap:square;stroke-width:0.8;\"/>\n     </g>\n     <g id=\"line2d_22\">\n      <g>\n       <use style=\"fill:#555555;stroke:#555555;stroke-width:0.8;\" x=\"30.103125\" xlink:href=\"#m5da6fad3a2\" y=\"54.487219\"/>\n      </g>\n     </g>\n     <g id=\"text_11\">\n      <!-- 0.8 -->\n      <g style=\"fill:#555555;\" transform=\"translate(7.2 58.286437)scale(0.1 -0.1)\">\n       <use xlink:href=\"#DejaVuSans-48\"/>\n       <use x=\"63.623047\" xlink:href=\"#DejaVuSans-46\"/>\n       <use x=\"95.410156\" xlink:href=\"#DejaVuSans-56\"/>\n      </g>\n     </g>\n    </g>\n    <g id=\"ytick_6\">\n     <g id=\"line2d_23\">\n      <path clip-path=\"url(#p6649c759d3)\" d=\"M 30.103125 10.999219 \nL 364.903125 10.999219 \n\" style=\"fill:none;stroke:#ffffff;stroke-linecap:square;stroke-width:0.8;\"/>\n     </g>\n     <g id=\"line2d_24\">\n      <g>\n       <use style=\"fill:#555555;stroke:#555555;stroke-width:0.8;\" x=\"30.103125\" xlink:href=\"#m5da6fad3a2\" y=\"10.999219\"/>\n      </g>\n     </g>\n     <g id=\"text_12\">\n      <!-- 1.0 -->\n      <g style=\"fill:#555555;\" transform=\"translate(7.2 14.798437)scale(0.1 -0.1)\">\n       <use xlink:href=\"#DejaVuSans-49\"/>\n       <use x=\"63.623047\" xlink:href=\"#DejaVuSans-46\"/>\n       <use x=\"95.410156\" xlink:href=\"#DejaVuSans-48\"/>\n      </g>\n     </g>\n    </g>\n   </g>\n   <g id=\"patch_3\">\n    <path d=\"M 30.103125 228.439219 \nL 30.103125 10.999219 \n\" style=\"fill:none;stroke:#ffffff;stroke-linecap:square;stroke-linejoin:miter;\"/>\n   </g>\n   <g id=\"patch_4\">\n    <path d=\"M 364.903125 228.439219 \nL 364.903125 10.999219 \n\" style=\"fill:none;stroke:#ffffff;stroke-linecap:square;stroke-linejoin:miter;\"/>\n   </g>\n   <g id=\"patch_5\">\n    <path d=\"M 30.103125 228.439219 \nL 364.903125 228.439219 \n\" style=\"fill:none;stroke:#ffffff;stroke-linecap:square;stroke-linejoin:miter;\"/>\n   </g>\n   <g id=\"patch_6\">\n    <path d=\"M 30.103125 10.999219 \nL 364.903125 10.999219 \n\" style=\"fill:none;stroke:#ffffff;stroke-linecap:square;stroke-linejoin:miter;\"/>\n   </g>\n  </g>\n </g>\n <defs>\n  <clipPath id=\"p6649c759d3\">\n   <rect height=\"217.44\" width=\"334.8\" x=\"30.103125\" y=\"10.999219\"/>\n  </clipPath>\n </defs>\n</svg>\n",
      "image/png": "[encoded data removed]"
     },
     "metadata": {}
    }
   ],
   "source": [
    "ax = plt.axes()"
   ]
  },
  {
   "cell_type": "code",
   "execution_count": 24,
   "metadata": {},
   "outputs": [],
   "source": [
    "data = pd.Series([float(x) for x in '3 4 5 3 4 4 nan'.split()])"
   ]
  },
  {
   "cell_type": "code",
   "execution_count": 25,
   "metadata": {},
   "outputs": [
    {
     "output_type": "execute_result",
     "data": {
      "text/plain": [
       "0    3.0\n",
       "1    4.0\n",
       "2    5.0\n",
       "3    3.0\n",
       "4    4.0\n",
       "5    4.0\n",
       "6    NaN\n",
       "dtype: float64"
      ]
     },
     "metadata": {},
     "execution_count": 25
    }
   ],
   "source": [
    "data"
   ]
  },
  {
   "cell_type": "code",
   "execution_count": 26,
   "metadata": {},
   "outputs": [
    {
     "output_type": "execute_result",
     "data": {
      "text/plain": [
       "0    3.000000\n",
       "1    4.000000\n",
       "2    5.000000\n",
       "3    3.000000\n",
       "4    4.000000\n",
       "5    4.000000\n",
       "6    3.833333\n",
       "dtype: float64"
      ]
     },
     "metadata": {},
     "execution_count": 26
    }
   ],
   "source": [
    "data.fillna(data.mean())"
   ]
  },
  {
   "cell_type": "code",
   "execution_count": 27,
   "metadata": {},
   "outputs": [
    {
     "output_type": "stream",
     "name": "stdout",
     "text": [
      "15.0\n"
     ]
    }
   ],
   "source": [
    "print(1 + 2 + 3 + 4.0 + 5)"
   ]
  },
  {
   "cell_type": "code",
   "execution_count": 28,
   "metadata": {},
   "outputs": [
    {
     "output_type": "stream",
     "name": "stdout",
     "text": [
      "2.0\n"
     ]
    }
   ],
   "source": [
    "print( 8 ** (1/3) )"
   ]
  },
  {
   "cell_type": "code",
   "execution_count": 29,
   "metadata": {},
   "outputs": [
    {
     "output_type": "stream",
     "name": "stdout",
     "text": [
      "2\n"
     ]
    }
   ],
   "source": [
    "print( 10//4 )"
   ]
  },
  {
   "cell_type": "code",
   "execution_count": 30,
   "metadata": {},
   "outputs": [
    {
     "output_type": "stream",
     "name": "stdout",
     "text": [
      "1\n"
     ]
    }
   ],
   "source": [
    "print( 7%(5 // 2) )"
   ]
  },
  {
   "cell_type": "code",
   "execution_count": 31,
   "metadata": {},
   "outputs": [
    {
     "output_type": "stream",
     "name": "stdout",
     "text": [
      "13\n"
     ]
    }
   ],
   "source": [
    "print(1 + 4*3)"
   ]
  },
  {
   "cell_type": "code",
   "execution_count": 32,
   "metadata": {},
   "outputs": [
    {
     "output_type": "stream",
     "name": "stdout",
     "text": [
      "4\n"
     ]
    }
   ],
   "source": [
    "print( (3**2)//2 )"
   ]
  },
  {
   "cell_type": "code",
   "execution_count": null,
   "metadata": {},
   "outputs": [],
   "source": []
  }
 ]
}